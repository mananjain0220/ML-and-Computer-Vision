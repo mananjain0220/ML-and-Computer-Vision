{
  "nbformat": 4,
  "nbformat_minor": 0,
  "metadata": {
    "colab": {
      "provenance": [],
      "machine_shape": "hm",
      "gpuType": "V100",
      "include_colab_link": true
    },
    "kernelspec": {
      "name": "python3",
      "display_name": "Python 3"
    },
    "language_info": {
      "name": "python"
    },
    "accelerator": "GPU"
  },
  "cells": [
    {
      "cell_type": "markdown",
      "metadata": {
        "id": "view-in-github",
        "colab_type": "text"
      },
      "source": [
        "<a href=\"https://colab.research.google.com/github/mananjain0220/ML-and-Computer-Vision/blob/main/Object_classification_using_VGG19.ipynb\" target=\"_parent\"><img src=\"https://colab.research.google.com/assets/colab-badge.svg\" alt=\"Open In Colab\"/></a>"
      ]
    },
    {
      "cell_type": "code",
      "source": [
        "import os\n",
        "import tensorflow as tf\n",
        "from tensorflow.keras.preprocessing.image import ImageDataGenerator\n",
        "import cv2\n",
        "import numpy as np\n",
        "from PIL import Image"
      ],
      "metadata": {
        "id": "uUnTZ1w0sqpg"
      },
      "execution_count": null,
      "outputs": []
    },
    {
      "cell_type": "code",
      "source": [
        "from google.colab import drive\n",
        "drive.mount('/content/gdrive')\n"
      ],
      "metadata": {
        "id": "nQ-fZ06Npa-O",
        "colab": {
          "base_uri": "https://localhost:8080/"
        },
        "outputId": "87799a55-eb3a-4425-d479-9254dff1de15"
      },
      "execution_count": null,
      "outputs": [
        {
          "output_type": "stream",
          "name": "stdout",
          "text": [
            "Mounted at /content/gdrive\n"
          ]
        }
      ]
    },
    {
      "cell_type": "code",
      "source": [
        "%cd /content/gdrive/MyDrive/testing_and_saved_model"
      ],
      "metadata": {
        "colab": {
          "base_uri": "https://localhost:8080/"
        },
        "id": "tfNN6RjVrMOb",
        "outputId": "82e852e2-6951-49f2-93cc-e96e4732b82b"
      },
      "execution_count": null,
      "outputs": [
        {
          "output_type": "stream",
          "name": "stdout",
          "text": [
            "/content/gdrive/MyDrive/testing_and_saved_model\n"
          ]
        }
      ]
    },
    {
      "cell_type": "code",
      "source": [
        "!ls"
      ],
      "metadata": {
        "colab": {
          "base_uri": "https://localhost:8080/"
        },
        "id": "SVNdruuUrMQu",
        "outputId": "e5fd6d1a-3e25-464a-a0a0-9b70ce96b7ce"
      },
      "execution_count": null,
      "outputs": [
        {
          "output_type": "stream",
          "name": "stdout",
          "text": [
            "assets\tfingerprint.pb\tkeras_metadata.pb  my_model  saved_model.pb  testing_images  variables\n"
          ]
        }
      ]
    },
    {
      "cell_type": "code",
      "source": [
        "%cd /content/gdrive/MyDrive/testing_and_saved_model/testing_images/"
      ],
      "metadata": {
        "colab": {
          "base_uri": "https://localhost:8080/"
        },
        "id": "xVk-lgZapt_F",
        "outputId": "01005f09-520e-4eaf-e9a8-84acfe0c8f95"
      },
      "execution_count": null,
      "outputs": [
        {
          "output_type": "stream",
          "name": "stdout",
          "text": [
            "/content/gdrive/MyDrive/testing_and_saved_model/testing_images\n"
          ]
        }
      ]
    },
    {
      "cell_type": "code",
      "source": [
        "\n",
        "batch_size = 32\n",
        "img_height = 180\n",
        "img_width = 180\n",
        "\n",
        "data_dir = \"/content/gdrive/MyDrive/image_dataset\"\n",
        "train_ds = tf.keras.utils.image_dataset_from_directory(\n",
        "  data_dir,\n",
        "  validation_split=0.2,  # specify the fraction of data to be reserved for validation\n",
        "  subset=\"training\",\n",
        "  seed=123,  # set seed for reproducibility\n",
        "  image_size=(img_height, img_width),\n",
        "  batch_size=batch_size)\n",
        "\n",
        "val_ds = tf.keras.utils.image_dataset_from_directory(\n",
        "  data_dir,\n",
        "  validation_split=0.2,\n",
        "  subset=\"validation\",\n",
        "  seed=123,\n",
        "  image_size=(img_height, img_width),\n",
        "  batch_size=batch_size)\n"
      ],
      "metadata": {
        "colab": {
          "base_uri": "https://localhost:8080/"
        },
        "id": "oNR0nBhlAJOl",
        "outputId": "e6801e0a-90bb-4f87-8b4e-3934a9e3c9f7"
      },
      "execution_count": null,
      "outputs": [
        {
          "output_type": "stream",
          "name": "stdout",
          "text": [
            "Found 611 files belonging to 2 classes.\n",
            "Using 489 files for training.\n",
            "Found 611 files belonging to 2 classes.\n",
            "Using 122 files for validation.\n"
          ]
        }
      ]
    },
    {
      "cell_type": "code",
      "source": [
        "class_names = train_ds.class_names\n",
        "print(\"Class names: \", class_names)\n"
      ],
      "metadata": {
        "colab": {
          "base_uri": "https://localhost:8080/"
        },
        "id": "F4Ojb70JtXos",
        "outputId": "c73ad690-3df6-427f-dca4-056dcccc9d97"
      },
      "execution_count": null,
      "outputs": [
        {
          "output_type": "stream",
          "name": "stdout",
          "text": [
            "Class names:  ['negative_examples', 'positive_examples']\n"
          ]
        }
      ]
    },
    {
      "cell_type": "code",
      "source": [
        "\n",
        "import tensorflow as tf\n",
        "from tensorflow.keras import layers, models\n",
        "import matplotlib.pyplot as plt\n",
        "\n",
        "# Configure the dataset for performance\n",
        "AUTOTUNE = tf.data.AUTOTUNE\n",
        "\n",
        "train_ds = train_ds.cache().shuffle(1000).prefetch(buffer_size=AUTOTUNE)\n",
        "val_ds = val_ds.cache().prefetch(buffer_size=AUTOTUNE)\n",
        "\n"
      ],
      "metadata": {
        "id": "6z007cAa48oW"
      },
      "execution_count": null,
      "outputs": []
    },
    {
      "cell_type": "code",
      "source": [
        "\n",
        "# Data Augmentation\n",
        "data_augmentation = tf.keras.Sequential([\n",
        "  layers.RandomFlip(\"horizontal_and_vertical\"),\n",
        "  layers.RandomRotation(0.2),\n",
        "])\n",
        "\n"
      ],
      "metadata": {
        "id": "9SxPwcNKw4-r"
      },
      "execution_count": null,
      "outputs": []
    },
    {
      "cell_type": "code",
      "source": [
        "\n",
        "# Use a pre-trained model (VGG16) as the base model\n",
        "base_model = tf.keras.applications.VGG19(input_shape=(180, 180, 3),\n",
        "                                          include_top=False,\n",
        "                                          weights='imagenet')\n",
        "base_model.trainable = False"
      ],
      "metadata": {
        "id": "Y9otGkO0w5Kp",
        "colab": {
          "base_uri": "https://localhost:8080/"
        },
        "outputId": "df647261-bf27-4520-8250-b51db8c476d1"
      },
      "execution_count": null,
      "outputs": [
        {
          "output_type": "stream",
          "name": "stdout",
          "text": [
            "Downloading data from https://storage.googleapis.com/tensorflow/keras-applications/vgg19/vgg19_weights_tf_dim_ordering_tf_kernels_notop.h5\n",
            "80134624/80134624 [==============================] - 0s 0us/step\n"
          ]
        }
      ]
    },
    {
      "cell_type": "code",
      "source": [
        "# Build the Model\n",
        "num_classes = 2\n",
        "\n",
        "model = models.Sequential([\n",
        "  data_augmentation,\n",
        "  layers.Rescaling(1./255),\n",
        "  base_model,\n",
        "  layers.GlobalAveragePooling2D(),\n",
        "  layers.Dropout(0.2),\n",
        "  layers.Dense(num_classes, activation='softmax')\n",
        "])"
      ],
      "metadata": {
        "id": "OlBBlDX_xB3p"
      },
      "execution_count": null,
      "outputs": []
    },
    {
      "cell_type": "code",
      "source": [
        "# Compile the Model\n",
        "model.compile(optimizer='adam',\n",
        "              loss='SparseCategoricalCrossentropy',\n",
        "              metrics=['accuracy'])\n",
        "\n",
        "# Train the Model\n",
        "epochs = 10\n",
        "history = model.fit(\n",
        "  train_ds,\n",
        "  validation_data=val_ds,\n",
        "  epochs=epochs\n",
        ")"
      ],
      "metadata": {
        "colab": {
          "base_uri": "https://localhost:8080/"
        },
        "id": "KApd9vwcxB6g",
        "outputId": "ae0bad50-f9c5-4e96-9d7d-64d36f8e72f3"
      },
      "execution_count": null,
      "outputs": [
        {
          "output_type": "stream",
          "name": "stdout",
          "text": [
            "Epoch 1/10\n",
            "16/16 [==============================] - 2s 63ms/step - loss: 0.2845 - accuracy: 0.8978 - val_loss: 0.1756 - val_accuracy: 0.9590\n",
            "Epoch 2/10\n",
            "16/16 [==============================] - 1s 48ms/step - loss: 0.2752 - accuracy: 0.8937 - val_loss: 0.1655 - val_accuracy: 0.9508\n",
            "Epoch 3/10\n",
            "16/16 [==============================] - 1s 46ms/step - loss: 0.2665 - accuracy: 0.8957 - val_loss: 0.1545 - val_accuracy: 0.9672\n",
            "Epoch 4/10\n",
            "16/16 [==============================] - 1s 48ms/step - loss: 0.2530 - accuracy: 0.9121 - val_loss: 0.1473 - val_accuracy: 0.9672\n",
            "Epoch 5/10\n",
            "16/16 [==============================] - 1s 46ms/step - loss: 0.2502 - accuracy: 0.8937 - val_loss: 0.1397 - val_accuracy: 0.9672\n",
            "Epoch 6/10\n",
            "16/16 [==============================] - 1s 47ms/step - loss: 0.2501 - accuracy: 0.9223 - val_loss: 0.1364 - val_accuracy: 0.9672\n",
            "Epoch 7/10\n",
            "16/16 [==============================] - 1s 49ms/step - loss: 0.2471 - accuracy: 0.9162 - val_loss: 0.1296 - val_accuracy: 0.9672\n",
            "Epoch 8/10\n",
            "16/16 [==============================] - 1s 51ms/step - loss: 0.2372 - accuracy: 0.9141 - val_loss: 0.1260 - val_accuracy: 0.9672\n",
            "Epoch 9/10\n",
            "16/16 [==============================] - 1s 50ms/step - loss: 0.2270 - accuracy: 0.9202 - val_loss: 0.1250 - val_accuracy: 0.9672\n",
            "Epoch 10/10\n",
            "16/16 [==============================] - 1s 59ms/step - loss: 0.2229 - accuracy: 0.9346 - val_loss: 0.1191 - val_accuracy: 0.9672\n"
          ]
        }
      ]
    },
    {
      "cell_type": "code",
      "source": [
        "\n",
        "\n",
        "# Evaluate the Model\n",
        "val_loss, val_accuracy = model.evaluate(val_ds)\n",
        "print(f\"Validation accuracy: {val_accuracy*100:.2f}%\")\n",
        "\n",
        "# Plot Training History\n",
        "plt.figure(figsize=(12, 4))\n",
        "plt.subplot(1, 2, 1)\n",
        "plt.plot(history.history['loss'], label='Training Loss')\n",
        "plt.plot(history.history['val_loss'], label='Validation Loss')\n",
        "plt.legend()\n",
        "plt.title('Loss')\n",
        "\n",
        "plt.subplot(1, 2, 2)\n",
        "plt.plot(history.history['accuracy'], label='Training Accuracy')\n",
        "plt.plot(history.history['val_accuracy'], label='Validation Accuracy')\n",
        "plt.legend()\n",
        "plt.title('Accuracy')\n",
        "plt.show()\n",
        "\n"
      ],
      "metadata": {
        "colab": {
          "base_uri": "https://localhost:8080/",
          "height": 427
        },
        "id": "D39irePoxB9F",
        "outputId": "8a8c0229-73b8-4edd-f128-fcb43f503a60"
      },
      "execution_count": null,
      "outputs": [
        {
          "output_type": "stream",
          "name": "stdout",
          "text": [
            "4/4 [==============================] - 0s 39ms/step - loss: 0.1191 - accuracy: 0.9672\n",
            "Validation accuracy: 96.72%\n"
          ]
        },
        {
          "output_type": "display_data",
          "data": {
            "text/plain": [
              "<Figure size 1200x400 with 2 Axes>"
            ],
            "image/png": "[encoded data removed]"
          },
          "metadata": {}
        }
      ]
    },
    {
      "cell_type": "code",
      "source": [
        "#Optional: Save the Model\n",
        "model.save('/content/gdrive/MyDrive/testing_and_saved_model')\n"
      ],
      "metadata": {
        "id": "D-RM473il6J7"
      },
      "execution_count": null,
      "outputs": []
    },
    {
      "cell_type": "code",
      "source": [
        "loaded_model = tf.keras.models.load_model('/content/gdrive/MyDrive/testing_and_saved_model')\n"
      ],
      "metadata": {
        "id": "D-rKFg7C3l74"
      },
      "execution_count": null,
      "outputs": []
    },
    {
      "cell_type": "code",
      "source": [
        "\n",
        "\n",
        "# Load the trained model\n",
        "model = tf.keras.models.load_model('/content/gdrive/MyDrive/testing_and_saved_model')\n",
        "\n",
        "# Directory containing the unlabelled images\n",
        "image_directory = '/content/gdrive/MyDrive/testing_and_saved_model/testing_images/'\n",
        "\n",
        "\n",
        "batch_size = 32\n",
        "img_height = 180\n",
        "img_width = 180\n",
        "\n",
        "\n",
        "# Preprocess the images\n",
        "def preprocess_image(image_path, img_height, img_width):\n",
        "    img = Image.open(image_path).convert('RGB')  # Convert image to RGB\n",
        "    img = img.resize((img_height, img_width))\n",
        "    img_array = tf.keras.preprocessing.image.img_to_array(img)\n",
        "    img_array = tf.expand_dims(img_array, 0)  # Create a batch\n",
        "    img_array /= 255.0  # Normalize to [0, 1] range\n",
        "    return img_array\n",
        "\n",
        "\n",
        "# Predict and display the results\n",
        "for image_name in os.listdir(image_directory):\n",
        "    image_path = os.path.join(image_directory, image_name)\n",
        "    img_array = preprocess_image(image_path, img_height, img_width)\n",
        "    predictions = model.predict(img_array)\n",
        "    predicted_class = np.argmax(predictions)  # Assuming your model outputs class scores\n",
        "    confidence = np.max(predictions)\n",
        "    print(f\"Image: {image_name}, Predicted Class: {predicted_class},%%%%%%%% Confidence: {confidence}\")\n"
      ],
      "metadata": {
        "colab": {
          "base_uri": "https://localhost:8080/",
          "height": 1000
        },
        "id": "UQTJHWAE2IwC",
        "outputId": "f49c9859-0160-4c45-9021-0e929cac4ec1"
      },
      "execution_count": null,
      "outputs": [
        {
          "output_type": "stream",
          "name": "stdout",
          "text": [
            "1/1 [==============================] - 0s 145ms/step\n",
            "Image: image1.jpeg, Predicted Class: 0,%%%%%%%% Confidence: 0.932096540927887\n",
            "1/1 [==============================] - 0s 21ms/step\n",
            "Image: image2.jpg, Predicted Class: 0,%%%%%%%% Confidence: 0.9320042729377747\n",
            "1/1 [==============================] - 0s 20ms/step\n",
            "Image: image3.jpeg, Predicted Class: 0,%%%%%%%% Confidence: 0.9326393604278564\n",
            "1/1 [==============================] - 0s 21ms/step\n",
            "Image: image4.jpeg, Predicted Class: 0,%%%%%%%% Confidence: 0.9322328567504883\n",
            "1/1 [==============================] - 0s 21ms/step\n",
            "Image: image5.jpeg, Predicted Class: 0,%%%%%%%% Confidence: 0.9319966435432434\n",
            "1/1 [==============================] - 0s 21ms/step\n",
            "Image: image7.jpeg, Predicted Class: 0,%%%%%%%% Confidence: 0.9321467876434326\n",
            "1/1 [==============================] - 0s 21ms/step\n",
            "Image: image8.jpeg, Predicted Class: 0,%%%%%%%% Confidence: 0.9323908090591431\n",
            "1/1 [==============================] - 0s 21ms/step\n",
            "Image: image9.jpeg, Predicted Class: 0,%%%%%%%% Confidence: 0.9323490262031555\n",
            "1/1 [==============================] - 0s 21ms/step\n",
            "Image: image10.jpeg, Predicted Class: 0,%%%%%%%% Confidence: 0.9322513937950134\n",
            "1/1 [==============================] - 0s 22ms/step\n",
            "Image: image12.jpeg, Predicted Class: 0,%%%%%%%% Confidence: 0.9322717189788818\n",
            "1/1 [==============================] - 0s 20ms/step\n",
            "Image: image11.jpeg, Predicted Class: 0,%%%%%%%% Confidence: 0.9321191310882568\n",
            "1/1 [==============================] - 0s 21ms/step\n",
            "Image: image13.jpeg, Predicted Class: 0,%%%%%%%% Confidence: 0.9321335554122925\n",
            "1/1 [==============================] - 0s 22ms/step\n",
            "Image: image14.jpeg, Predicted Class: 0,%%%%%%%% Confidence: 0.9322391748428345\n",
            "1/1 [==============================] - 0s 21ms/step\n",
            "Image: image15.jpeg, Predicted Class: 0,%%%%%%%% Confidence: 0.932280421257019\n",
            "1/1 [==============================] - 0s 22ms/step\n",
            "Image: image16.jpeg, Predicted Class: 0,%%%%%%%% Confidence: 0.9321734309196472\n",
            "1/1 [==============================] - 0s 21ms/step\n",
            "Image: image17.jpeg, Predicted Class: 0,%%%%%%%% Confidence: 0.9322300553321838\n",
            "1/1 [==============================] - 0s 20ms/step\n",
            "Image: image18.jpeg, Predicted Class: 0,%%%%%%%% Confidence: 0.9319508671760559\n",
            "1/1 [==============================] - 0s 21ms/step\n",
            "Image: image19.jpeg, Predicted Class: 0,%%%%%%%% Confidence: 0.9325600266456604\n"
          ]
        },
        {
          "output_type": "error",
          "ename": "UnidentifiedImageError",
          "evalue": "ignored",
          "traceback": [
            "\u001b[0;31m---------------------------------------------------------------------------\u001b[0m",
            "\u001b[0;31mUnidentifiedImageError\u001b[0m                    Traceback (most recent call last)",
            "\u001b[0;32m<ipython-input-14-34e05fe1708d>\u001b[0m in \u001b[0;36m<cell line: 24>\u001b[0;34m()\u001b[0m\n\u001b[1;32m     24\u001b[0m \u001b[0;32mfor\u001b[0m \u001b[0mimage_name\u001b[0m \u001b[0;32min\u001b[0m \u001b[0mos\u001b[0m\u001b[0;34m.\u001b[0m\u001b[0mlistdir\u001b[0m\u001b[0;34m(\u001b[0m\u001b[0mimage_directory\u001b[0m\u001b[0;34m)\u001b[0m\u001b[0;34m:\u001b[0m\u001b[0;34m\u001b[0m\u001b[0;34m\u001b[0m\u001b[0m\n\u001b[1;32m     25\u001b[0m     \u001b[0mimage_path\u001b[0m \u001b[0;34m=\u001b[0m \u001b[0mos\u001b[0m\u001b[0;34m.\u001b[0m\u001b[0mpath\u001b[0m\u001b[0;34m.\u001b[0m\u001b[0mjoin\u001b[0m\u001b[0;34m(\u001b[0m\u001b[0mimage_directory\u001b[0m\u001b[0;34m,\u001b[0m \u001b[0mimage_name\u001b[0m\u001b[0;34m)\u001b[0m\u001b[0;34m\u001b[0m\u001b[0;34m\u001b[0m\u001b[0m\n\u001b[0;32m---> 26\u001b[0;31m     \u001b[0mimg_array\u001b[0m \u001b[0;34m=\u001b[0m \u001b[0mpreprocess_image\u001b[0m\u001b[0;34m(\u001b[0m\u001b[0mimage_path\u001b[0m\u001b[0;34m,\u001b[0m \u001b[0mimg_height\u001b[0m\u001b[0;34m,\u001b[0m \u001b[0mimg_width\u001b[0m\u001b[0;34m)\u001b[0m\u001b[0;34m\u001b[0m\u001b[0;34m\u001b[0m\u001b[0m\n\u001b[0m\u001b[1;32m     27\u001b[0m     \u001b[0mpredictions\u001b[0m \u001b[0;34m=\u001b[0m \u001b[0mmodel\u001b[0m\u001b[0;34m.\u001b[0m\u001b[0mpredict\u001b[0m\u001b[0;34m(\u001b[0m\u001b[0mimg_array\u001b[0m\u001b[0;34m)\u001b[0m\u001b[0;34m\u001b[0m\u001b[0;34m\u001b[0m\u001b[0m\n\u001b[1;32m     28\u001b[0m     \u001b[0mpredicted_class\u001b[0m \u001b[0;34m=\u001b[0m \u001b[0mnp\u001b[0m\u001b[0;34m.\u001b[0m\u001b[0margmax\u001b[0m\u001b[0;34m(\u001b[0m\u001b[0mpredictions\u001b[0m\u001b[0;34m)\u001b[0m  \u001b[0;31m# Assuming your model outputs class scores\u001b[0m\u001b[0;34m\u001b[0m\u001b[0;34m\u001b[0m\u001b[0m\n",
            "\u001b[0;32m<ipython-input-14-34e05fe1708d>\u001b[0m in \u001b[0;36mpreprocess_image\u001b[0;34m(image_path, img_height, img_width)\u001b[0m\n\u001b[1;32m     13\u001b[0m \u001b[0;31m# Preprocess the images\u001b[0m\u001b[0;34m\u001b[0m\u001b[0;34m\u001b[0m\u001b[0m\n\u001b[1;32m     14\u001b[0m \u001b[0;32mdef\u001b[0m \u001b[0mpreprocess_image\u001b[0m\u001b[0;34m(\u001b[0m\u001b[0mimage_path\u001b[0m\u001b[0;34m,\u001b[0m \u001b[0mimg_height\u001b[0m\u001b[0;34m,\u001b[0m \u001b[0mimg_width\u001b[0m\u001b[0;34m)\u001b[0m\u001b[0;34m:\u001b[0m\u001b[0;34m\u001b[0m\u001b[0;34m\u001b[0m\u001b[0m\n\u001b[0;32m---> 15\u001b[0;31m     \u001b[0mimg\u001b[0m \u001b[0;34m=\u001b[0m \u001b[0mImage\u001b[0m\u001b[0;34m.\u001b[0m\u001b[0mopen\u001b[0m\u001b[0;34m(\u001b[0m\u001b[0mimage_path\u001b[0m\u001b[0;34m)\u001b[0m\u001b[0;34m.\u001b[0m\u001b[0mconvert\u001b[0m\u001b[0;34m(\u001b[0m\u001b[0;34m'RGB'\u001b[0m\u001b[0;34m)\u001b[0m  \u001b[0;31m# Convert image to RGB\u001b[0m\u001b[0;34m\u001b[0m\u001b[0;34m\u001b[0m\u001b[0m\n\u001b[0m\u001b[1;32m     16\u001b[0m     \u001b[0mimg\u001b[0m \u001b[0;34m=\u001b[0m \u001b[0mimg\u001b[0m\u001b[0;34m.\u001b[0m\u001b[0mresize\u001b[0m\u001b[0;34m(\u001b[0m\u001b[0;34m(\u001b[0m\u001b[0mimg_height\u001b[0m\u001b[0;34m,\u001b[0m \u001b[0mimg_width\u001b[0m\u001b[0;34m)\u001b[0m\u001b[0;34m)\u001b[0m\u001b[0;34m\u001b[0m\u001b[0;34m\u001b[0m\u001b[0m\n\u001b[1;32m     17\u001b[0m     \u001b[0mimg_array\u001b[0m \u001b[0;34m=\u001b[0m \u001b[0mtf\u001b[0m\u001b[0;34m.\u001b[0m\u001b[0mkeras\u001b[0m\u001b[0;34m.\u001b[0m\u001b[0mpreprocessing\u001b[0m\u001b[0;34m.\u001b[0m\u001b[0mimage\u001b[0m\u001b[0;34m.\u001b[0m\u001b[0mimg_to_array\u001b[0m\u001b[0;34m(\u001b[0m\u001b[0mimg\u001b[0m\u001b[0;34m)\u001b[0m\u001b[0;34m\u001b[0m\u001b[0;34m\u001b[0m\u001b[0m\n",
            "\u001b[0;32m/usr/local/lib/python3.10/dist-packages/PIL/Image.py\u001b[0m in \u001b[0;36mopen\u001b[0;34m(fp, mode, formats)\u001b[0m\n\u001b[1;32m   3281\u001b[0m         \u001b[0mwarnings\u001b[0m\u001b[0;34m.\u001b[0m\u001b[0mwarn\u001b[0m\u001b[0;34m(\u001b[0m\u001b[0mmessage\u001b[0m\u001b[0;34m)\u001b[0m\u001b[0;34m\u001b[0m\u001b[0;34m\u001b[0m\u001b[0m\n\u001b[1;32m   3282\u001b[0m     \u001b[0mmsg\u001b[0m \u001b[0;34m=\u001b[0m \u001b[0;34m\"cannot identify image file %r\"\u001b[0m \u001b[0;34m%\u001b[0m \u001b[0;34m(\u001b[0m\u001b[0mfilename\u001b[0m \u001b[0;32mif\u001b[0m \u001b[0mfilename\u001b[0m \u001b[0;32melse\u001b[0m \u001b[0mfp\u001b[0m\u001b[0;34m)\u001b[0m\u001b[0;34m\u001b[0m\u001b[0;34m\u001b[0m\u001b[0m\n\u001b[0;32m-> 3283\u001b[0;31m     \u001b[0;32mraise\u001b[0m \u001b[0mUnidentifiedImageError\u001b[0m\u001b[0;34m(\u001b[0m\u001b[0mmsg\u001b[0m\u001b[0;34m)\u001b[0m\u001b[0;34m\u001b[0m\u001b[0;34m\u001b[0m\u001b[0m\n\u001b[0m\u001b[1;32m   3284\u001b[0m \u001b[0;34m\u001b[0m\u001b[0m\n\u001b[1;32m   3285\u001b[0m \u001b[0;34m\u001b[0m\u001b[0m\n",
            "\u001b[0;31mUnidentifiedImageError\u001b[0m: cannot identify image file '/content/gdrive/MyDrive/testing_and_saved_model/testing_images/.DS_Store'"
          ]
        }
      ]
    },
    {
      "cell_type": "code",
      "source": [],
      "metadata": {
        "id": "wOxr9DUesRSD"
      },
      "execution_count": null,
      "outputs": []
    }
  ]
}